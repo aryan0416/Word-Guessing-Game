{
  "nbformat": 4,
  "nbformat_minor": 0,
  "metadata": {
    "colab": {
      "provenance": [],
      "authorship_tag": "ABX9TyONPnh4AER6SrZbpSwTNeCe",
      "include_colab_link": true
    },
    "kernelspec": {
      "name": "python3",
      "display_name": "Python 3"
    },
    "language_info": {
      "name": "python"
    }
  },
  "cells": [
    {
      "cell_type": "markdown",
      "metadata": {
        "id": "view-in-github",
        "colab_type": "text"
      },
      "source": [
        "<a href=\"https://colab.research.google.com/github/aryan0416/Word-Guessing-Game/blob/main/Fruit_guessing_Game.ipynb\" target=\"_parent\"><img src=\"https://colab.research.google.com/assets/colab-badge.svg\" alt=\"Open In Colab\"/></a>"
      ]
    },
    {
      "cell_type": "code",
      "execution_count": 2,
      "metadata": {
        "id": "ez02sxHcnKAh"
      },
      "outputs": [],
      "source": [
        "import random\n",
        "\n",
        "word_bank = ['mango','durian','dragonfruit','lychee','açaí','kiwano','rambutan','feijoa','persimmon','tamarillo','miracle_fruit','jabuticaba','soursop','cherimoya','langsat','camu_camu','banana','papaya','guava','pineapple','watermelon','orange','grapefruit','lemon','lime','apple','pear','plum','cherry','fig','grape','blueberry','blackberry','strawberry','cranberry','gooseberry','mulberry','jackfruit','custard_apple','mangosteen','starfruit','passionfruit','salak','tomato','quince','olive','boysenberry','cloudberry','date','melon']"
      ]
    },
    {
      "cell_type": "code",
      "source": [
        "\n",
        "word = random.choice(word_bank)\n",
        "\n",
        "guessedWord = ['_'] * len(word)\n",
        "\n",
        "attempts = 10\n",
        "\n",
        "while attempts > 0:\n",
        "\n",
        "    print(\"\\nCurrent word: \" + ' '.join(guessedWord))\n",
        "\n",
        "    guess = input(\"Guess a letter: \").lower()\n",
        "\n",
        "    if guess in word:\n",
        "        for i in range(len(word)):\n",
        "            if word[i] == guess:\n",
        "                guessedWord[i] = guess\n",
        "        print(\"Great guess!\")\n",
        "    else:\n",
        "        attempts -= 1\n",
        "        print(\"Wrong guess! Attempts left: \" + str(attempts))\n",
        "    if '_' not in guessedWord:\n",
        "        print(\"\\nCongratulations!! You guessed the word: \" + word)\n",
        "        break\n",
        "else:\n",
        "    print(\"\\nYou've run out of attempts! The word was: \" + word)"
      ],
      "metadata": {
        "colab": {
          "base_uri": "https://localhost:8080/"
        },
        "id": "QxYHgSI8n2WM",
        "outputId": "01565f52-cc6e-4666-db04-7d8c876b7b50"
      },
      "execution_count": 4,
      "outputs": [
        {
          "output_type": "stream",
          "name": "stdout",
          "text": [
            "\n",
            "Current word: _ _ _ _ _ _ _ _ _\n",
            "Guess a letter: a\n",
            "Great guess!\n",
            "\n",
            "Current word: _ _ a _ _ _ _ _ _\n",
            "Guess a letter: d\n",
            "Wrong guess! Attempts left: 9\n",
            "\n",
            "Current word: _ _ a _ _ _ _ _ _\n",
            "Guess a letter: e\n",
            "Wrong guess! Attempts left: 8\n",
            "\n",
            "Current word: _ _ a _ _ _ _ _ _\n",
            "Guess a letter: i\n",
            "Great guess!\n",
            "\n",
            "Current word: _ _ a _ _ _ _ i _\n",
            "Guess a letter: o\n",
            "Wrong guess! Attempts left: 7\n",
            "\n",
            "Current word: _ _ a _ _ _ _ i _\n",
            "Guess a letter: f\n",
            "Great guess!\n",
            "\n",
            "Current word: _ _ a _ f _ _ i _\n",
            "Guess a letter: r\n",
            "Great guess!\n",
            "\n",
            "Current word: _ _ a r f r _ i _\n",
            "Guess a letter: u\n",
            "Great guess!\n",
            "\n",
            "Current word: _ _ a r f r u i _\n",
            "Guess a letter: t\n",
            "Great guess!\n",
            "\n",
            "Current word: _ t a r f r u i t\n",
            "Guess a letter: s\n",
            "Great guess!\n",
            "\n",
            "Congratulations!! You guessed the word: starfruit\n"
          ]
        }
      ]
    },
    {
      "cell_type": "code",
      "source": [
        "\n",
        "\n"
      ],
      "metadata": {
        "id": "FkojD91GoOGF"
      },
      "execution_count": null,
      "outputs": []
    }
  ]
}